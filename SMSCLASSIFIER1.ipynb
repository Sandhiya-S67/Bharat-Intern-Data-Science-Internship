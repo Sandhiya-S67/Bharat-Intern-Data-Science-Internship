{
 "cells": [
  {
   "cell_type": "markdown",
   "id": "34eead51",
   "metadata": {},
   "source": [
    "# SPAM CLASSIFIER"
   ]
  },
  {
   "cell_type": "code",
   "execution_count": 54,
   "id": "996ddd03",
   "metadata": {},
   "outputs": [],
   "source": [
    "import pandas as pd\n",
    "import numpy as np\n",
    "import matplotlib.pyplot as plt\n",
    "import seaborn as sns"
   ]
  },
  {
   "cell_type": "code",
   "execution_count": 55,
   "id": "fdcdc806",
   "metadata": {},
   "outputs": [],
   "source": [
    "df= pd.read_csv(\"spam.csv\",encoding=\"latin-1\")"
   ]
  },
  {
   "cell_type": "markdown",
   "id": "447a7461",
   "metadata": {},
   "source": [
    "# Overview of the Dataset"
   ]
  },
  {
   "cell_type": "code",
   "execution_count": 56,
   "id": "8ce60f01",
   "metadata": {},
   "outputs": [
    {
     "name": "stdout",
     "output_type": "stream",
     "text": [
      "Index(['v1', 'v2', 'Unnamed: 2', 'Unnamed: 3', 'Unnamed: 4'], dtype='object')\n"
     ]
    }
   ],
   "source": [
    "print(df.columns)"
   ]
  },
  {
   "cell_type": "code",
   "execution_count": 57,
   "id": "2ec9156d",
   "metadata": {},
   "outputs": [
    {
     "name": "stdout",
     "output_type": "stream",
     "text": [
      "** First five rows of the dataset **\n",
      "\n"
     ]
    },
    {
     "data": {
      "text/html": [
       "<div>\n",
       "<style scoped>\n",
       "    .dataframe tbody tr th:only-of-type {\n",
       "        vertical-align: middle;\n",
       "    }\n",
       "\n",
       "    .dataframe tbody tr th {\n",
       "        vertical-align: top;\n",
       "    }\n",
       "\n",
       "    .dataframe thead th {\n",
       "        text-align: right;\n",
       "    }\n",
       "</style>\n",
       "<table border=\"1\" class=\"dataframe\">\n",
       "  <thead>\n",
       "    <tr style=\"text-align: right;\">\n",
       "      <th></th>\n",
       "      <th>Target</th>\n",
       "      <th>Text</th>\n",
       "    </tr>\n",
       "  </thead>\n",
       "  <tbody>\n",
       "    <tr>\n",
       "      <th>0</th>\n",
       "      <td>ham</td>\n",
       "      <td>Go until jurong point, crazy.. Available only ...</td>\n",
       "    </tr>\n",
       "    <tr>\n",
       "      <th>1</th>\n",
       "      <td>ham</td>\n",
       "      <td>Ok lar... Joking wif u oni...</td>\n",
       "    </tr>\n",
       "    <tr>\n",
       "      <th>2</th>\n",
       "      <td>spam</td>\n",
       "      <td>Free entry in 2 a wkly comp to win FA Cup fina...</td>\n",
       "    </tr>\n",
       "    <tr>\n",
       "      <th>3</th>\n",
       "      <td>ham</td>\n",
       "      <td>U dun say so early hor... U c already then say...</td>\n",
       "    </tr>\n",
       "    <tr>\n",
       "      <th>4</th>\n",
       "      <td>ham</td>\n",
       "      <td>Nah I don't think he goes to usf, he lives aro...</td>\n",
       "    </tr>\n",
       "  </tbody>\n",
       "</table>\n",
       "</div>"
      ],
      "text/plain": [
       "  Target                                               Text\n",
       "0    ham  Go until jurong point, crazy.. Available only ...\n",
       "1    ham                      Ok lar... Joking wif u oni...\n",
       "2   spam  Free entry in 2 a wkly comp to win FA Cup fina...\n",
       "3    ham  U dun say so early hor... U c already then say...\n",
       "4    ham  Nah I don't think he goes to usf, he lives aro..."
      ]
     },
     "execution_count": 57,
     "metadata": {},
     "output_type": "execute_result"
    }
   ],
   "source": [
    "print(\"** First five rows of the dataset **\")\n",
    "print()\n",
    "\n",
    "df=df.drop([\"Unnamed: 2\" , \"Unnamed: 3\" , \"Unnamed: 4\"] , axis=1)\n",
    "df=df.rename(columns={\"v1\": \"Target\" , \"v2\": \"Text\"})\n",
    "df.head()"
   ]
  },
  {
   "cell_type": "code",
   "execution_count": 58,
   "id": "8882d6cc",
   "metadata": {},
   "outputs": [
    {
     "name": "stdout",
     "output_type": "stream",
     "text": [
      "** Value Counts of Target **\n",
      "\n",
      "ham     4825\n",
      "spam     747\n",
      "Name: Target, dtype: int64\n",
      "\n",
      "** Basic description of dataset **\n",
      "\n"
     ]
    },
    {
     "data": {
      "text/html": [
       "<div>\n",
       "<style scoped>\n",
       "    .dataframe tbody tr th:only-of-type {\n",
       "        vertical-align: middle;\n",
       "    }\n",
       "\n",
       "    .dataframe tbody tr th {\n",
       "        vertical-align: top;\n",
       "    }\n",
       "\n",
       "    .dataframe thead th {\n",
       "        text-align: right;\n",
       "    }\n",
       "</style>\n",
       "<table border=\"1\" class=\"dataframe\">\n",
       "  <thead>\n",
       "    <tr style=\"text-align: right;\">\n",
       "      <th></th>\n",
       "      <th>Target</th>\n",
       "      <th>Text</th>\n",
       "    </tr>\n",
       "  </thead>\n",
       "  <tbody>\n",
       "    <tr>\n",
       "      <th>count</th>\n",
       "      <td>5572</td>\n",
       "      <td>5572</td>\n",
       "    </tr>\n",
       "    <tr>\n",
       "      <th>unique</th>\n",
       "      <td>2</td>\n",
       "      <td>5169</td>\n",
       "    </tr>\n",
       "    <tr>\n",
       "      <th>top</th>\n",
       "      <td>ham</td>\n",
       "      <td>Sorry, I'll call later</td>\n",
       "    </tr>\n",
       "    <tr>\n",
       "      <th>freq</th>\n",
       "      <td>4825</td>\n",
       "      <td>30</td>\n",
       "    </tr>\n",
       "  </tbody>\n",
       "</table>\n",
       "</div>"
      ],
      "text/plain": [
       "       Target                    Text\n",
       "count    5572                    5572\n",
       "unique      2                    5169\n",
       "top       ham  Sorry, I'll call later\n",
       "freq     4825                      30"
      ]
     },
     "execution_count": 58,
     "metadata": {},
     "output_type": "execute_result"
    }
   ],
   "source": [
    "print(\"** Value Counts of Target **\")\n",
    "print()\n",
    "print(df['Target'].value_counts())\n",
    "print()\n",
    "print(\"** Basic description of dataset **\")\n",
    "print()\n",
    "df.describe()"
   ]
  },
  {
   "cell_type": "code",
   "execution_count": 59,
   "id": "15a1b5aa",
   "metadata": {},
   "outputs": [
    {
     "name": "stdout",
     "output_type": "stream",
     "text": [
      " ** Basic Information **\n",
      "\n",
      "<class 'pandas.core.frame.DataFrame'>\n",
      "RangeIndex: 5572 entries, 0 to 5571\n",
      "Data columns (total 2 columns):\n",
      " #   Column  Non-Null Count  Dtype \n",
      "---  ------  --------------  ----- \n",
      " 0   Target  5572 non-null   object\n",
      " 1   Text    5572 non-null   object\n",
      "dtypes: object(2)\n",
      "memory usage: 87.2+ KB\n"
     ]
    }
   ],
   "source": [
    "print(\" ** Basic Information **\")\n",
    "print()\n",
    "df.info()"
   ]
  },
  {
   "cell_type": "markdown",
   "id": "b76469cf",
   "metadata": {},
   "source": [
    "# Preprocessing and EDA"
   ]
  },
  {
   "cell_type": "code",
   "execution_count": 60,
   "id": "0827f748",
   "metadata": {},
   "outputs": [],
   "source": [
    "def without_hue(data,feature,ax):\n",
    "    \n",
    "    total=float(len(data))\n",
    "    bars_plot=ax.patches\n",
    "    \n",
    "    for bars in bars_plot:\n",
    "        percentage = '{:.1f}%'.format(100 * bars.get_height()/total)\n",
    "        x = bars.get_x() + bars.get_width()/2.0\n",
    "        y = bars.get_height()\n",
    "        ax.text(x, y,(percentage,bars.get_height()),ha='center',fontweight='bold',fontsize=14)"
   ]
  },
  {
   "cell_type": "code",
   "execution_count": 61,
   "id": "991d6c01",
   "metadata": {},
   "outputs": [
    {
     "data": {
      "text/plain": [
       "Text(0.5, 1.0, 'Label Distribution')"
      ]
     },
     "execution_count": 61,
     "metadata": {},
     "output_type": "execute_result"
    },
    {
     "data": {
      "image/png": "[encoded data removed]",
      "text/plain": [
       "<Figure size 1000x500 with 1 Axes>"
      ]
     },
     "metadata": {},
     "output_type": "display_data"
    }
   ],
   "source": [
    "sns.set_theme(context='notebook',style='white',font_scale=3)\n",
    "\n",
    "fig=plt.figure(figsize=(10,5))\n",
    "ax=plt.axes()\n",
    "ax.set_facecolor(\"#F2EDD7FF\")\n",
    "fig.patch.set_color(\"#F2EDD7FF\")\n",
    "\n",
    "for i in ['left','top','right']:\n",
    "    ax.spines[i].set_visible(False)\n",
    "    \n",
    "ax.grid(linestyle=\"--\",axis='y',color='gray')\n",
    "\n",
    "a=sns.countplot(data=df,x='Target',saturation=3,palette='cool')\n",
    "\n",
    "without_hue(df,'target',a)\n",
    "\n",
    "plt.title(\"Label Distribution\",weight='bold',fontsize=15)"
   ]
  },
  {
   "cell_type": "code",
   "execution_count": 62,
   "id": "0ca25720",
   "metadata": {},
   "outputs": [],
   "source": [
    "df['message_length']=df['Text'].apply(lambda x: len(x.split(\" \")))"
   ]
  },
  {
   "cell_type": "code",
   "execution_count": 63,
   "id": "0e56b6cd",
   "metadata": {},
   "outputs": [
    {
     "data": {
      "text/html": [
       "<div>\n",
       "<style scoped>\n",
       "    .dataframe tbody tr th:only-of-type {\n",
       "        vertical-align: middle;\n",
       "    }\n",
       "\n",
       "    .dataframe tbody tr th {\n",
       "        vertical-align: top;\n",
       "    }\n",
       "\n",
       "    .dataframe thead th {\n",
       "        text-align: right;\n",
       "    }\n",
       "</style>\n",
       "<table border=\"1\" class=\"dataframe\">\n",
       "  <thead>\n",
       "    <tr style=\"text-align: right;\">\n",
       "      <th></th>\n",
       "      <th>Target</th>\n",
       "      <th>Text</th>\n",
       "      <th>message_length</th>\n",
       "    </tr>\n",
       "  </thead>\n",
       "  <tbody>\n",
       "    <tr>\n",
       "      <th>0</th>\n",
       "      <td>ham</td>\n",
       "      <td>Go until jurong point, crazy.. Available only ...</td>\n",
       "      <td>20</td>\n",
       "    </tr>\n",
       "    <tr>\n",
       "      <th>1</th>\n",
       "      <td>ham</td>\n",
       "      <td>Ok lar... Joking wif u oni...</td>\n",
       "      <td>6</td>\n",
       "    </tr>\n",
       "    <tr>\n",
       "      <th>2</th>\n",
       "      <td>spam</td>\n",
       "      <td>Free entry in 2 a wkly comp to win FA Cup fina...</td>\n",
       "      <td>28</td>\n",
       "    </tr>\n",
       "    <tr>\n",
       "      <th>3</th>\n",
       "      <td>ham</td>\n",
       "      <td>U dun say so early hor... U c already then say...</td>\n",
       "      <td>11</td>\n",
       "    </tr>\n",
       "    <tr>\n",
       "      <th>4</th>\n",
       "      <td>ham</td>\n",
       "      <td>Nah I don't think he goes to usf, he lives aro...</td>\n",
       "      <td>13</td>\n",
       "    </tr>\n",
       "    <tr>\n",
       "      <th>...</th>\n",
       "      <td>...</td>\n",
       "      <td>...</td>\n",
       "      <td>...</td>\n",
       "    </tr>\n",
       "    <tr>\n",
       "      <th>5567</th>\n",
       "      <td>spam</td>\n",
       "      <td>This is the 2nd time we have tried 2 contact u...</td>\n",
       "      <td>30</td>\n",
       "    </tr>\n",
       "    <tr>\n",
       "      <th>5568</th>\n",
       "      <td>ham</td>\n",
       "      <td>Will Ì_ b going to esplanade fr home?</td>\n",
       "      <td>8</td>\n",
       "    </tr>\n",
       "    <tr>\n",
       "      <th>5569</th>\n",
       "      <td>ham</td>\n",
       "      <td>Pity, * was in mood for that. So...any other s...</td>\n",
       "      <td>10</td>\n",
       "    </tr>\n",
       "    <tr>\n",
       "      <th>5570</th>\n",
       "      <td>ham</td>\n",
       "      <td>The guy did some bitching but I acted like i'd...</td>\n",
       "      <td>26</td>\n",
       "    </tr>\n",
       "    <tr>\n",
       "      <th>5571</th>\n",
       "      <td>ham</td>\n",
       "      <td>Rofl. Its true to its name</td>\n",
       "      <td>6</td>\n",
       "    </tr>\n",
       "  </tbody>\n",
       "</table>\n",
       "<p>5572 rows × 3 columns</p>\n",
       "</div>"
      ],
      "text/plain": [
       "     Target                                               Text  message_length\n",
       "0       ham  Go until jurong point, crazy.. Available only ...              20\n",
       "1       ham                      Ok lar... Joking wif u oni...               6\n",
       "2      spam  Free entry in 2 a wkly comp to win FA Cup fina...              28\n",
       "3       ham  U dun say so early hor... U c already then say...              11\n",
       "4       ham  Nah I don't think he goes to usf, he lives aro...              13\n",
       "...     ...                                                ...             ...\n",
       "5567   spam  This is the 2nd time we have tried 2 contact u...              30\n",
       "5568    ham              Will Ì_ b going to esplanade fr home?               8\n",
       "5569    ham  Pity, * was in mood for that. So...any other s...              10\n",
       "5570    ham  The guy did some bitching but I acted like i'd...              26\n",
       "5571    ham                         Rofl. Its true to its name               6\n",
       "\n",
       "[5572 rows x 3 columns]"
      ]
     },
     "execution_count": 63,
     "metadata": {},
     "output_type": "execute_result"
    }
   ],
   "source": [
    "df"
   ]
  },
  {
   "cell_type": "code",
   "execution_count": 64,
   "id": "eab1f7d8",
   "metadata": {},
   "outputs": [],
   "source": [
    "df_ham= df[\"message_length\"][df[\"Target\"]==\"ham\"].value_counts()\n",
    "df_spam=df[\"message_length\"][df[\"Target\"]==\"spam\"].value_counts()\n",
    "df_ham=pd.DataFrame(df_ham)\n",
    "df_spam=pd.DataFrame(df_spam)"
   ]
  },
  {
   "cell_type": "code",
   "execution_count": 65,
   "id": "34a5c30b",
   "metadata": {},
   "outputs": [
    {
     "data": {
      "text/html": [
       "<div>\n",
       "<style scoped>\n",
       "    .dataframe tbody tr th:only-of-type {\n",
       "        vertical-align: middle;\n",
       "    }\n",
       "\n",
       "    .dataframe tbody tr th {\n",
       "        vertical-align: top;\n",
       "    }\n",
       "\n",
       "    .dataframe thead th {\n",
       "        text-align: right;\n",
       "    }\n",
       "</style>\n",
       "<table border=\"1\" class=\"dataframe\">\n",
       "  <thead>\n",
       "    <tr style=\"text-align: right;\">\n",
       "      <th></th>\n",
       "      <th>message_length</th>\n",
       "    </tr>\n",
       "  </thead>\n",
       "  <tbody>\n",
       "    <tr>\n",
       "      <th>6</th>\n",
       "      <td>412</td>\n",
       "    </tr>\n",
       "    <tr>\n",
       "      <th>7</th>\n",
       "      <td>378</td>\n",
       "    </tr>\n",
       "    <tr>\n",
       "      <th>5</th>\n",
       "      <td>348</td>\n",
       "    </tr>\n",
       "    <tr>\n",
       "      <th>8</th>\n",
       "      <td>337</td>\n",
       "    </tr>\n",
       "    <tr>\n",
       "      <th>9</th>\n",
       "      <td>304</td>\n",
       "    </tr>\n",
       "    <tr>\n",
       "      <th>...</th>\n",
       "      <td>...</td>\n",
       "    </tr>\n",
       "    <tr>\n",
       "      <th>54</th>\n",
       "      <td>1</td>\n",
       "    </tr>\n",
       "    <tr>\n",
       "      <th>119</th>\n",
       "      <td>1</td>\n",
       "    </tr>\n",
       "    <tr>\n",
       "      <th>121</th>\n",
       "      <td>1</td>\n",
       "    </tr>\n",
       "    <tr>\n",
       "      <th>99</th>\n",
       "      <td>1</td>\n",
       "    </tr>\n",
       "    <tr>\n",
       "      <th>71</th>\n",
       "      <td>1</td>\n",
       "    </tr>\n",
       "  </tbody>\n",
       "</table>\n",
       "<p>82 rows × 1 columns</p>\n",
       "</div>"
      ],
      "text/plain": [
       "     message_length\n",
       "6               412\n",
       "7               378\n",
       "5               348\n",
       "8               337\n",
       "9               304\n",
       "..              ...\n",
       "54                1\n",
       "119               1\n",
       "121               1\n",
       "99                1\n",
       "71                1\n",
       "\n",
       "[82 rows x 1 columns]"
      ]
     },
     "execution_count": 65,
     "metadata": {},
     "output_type": "execute_result"
    }
   ],
   "source": [
    "df_ham"
   ]
  },
  {
   "cell_type": "code",
   "execution_count": 66,
   "id": "b51d4b9c",
   "metadata": {},
   "outputs": [
    {
     "data": {
      "text/plain": [
       "Text(0, 0.5, 'Message Length Frequencies')"
      ]
     },
     "execution_count": 66,
     "metadata": {},
     "output_type": "execute_result"
    },
    {
     "data": {
      "image/png": "[encoded data removed]",
      "text/plain": [
       "<Figure size 2000x1000 with 1 Axes>"
      ]
     },
     "metadata": {},
     "output_type": "display_data"
    }
   ],
   "source": [
    "fig=plt.figure(figsize=(20,10))\n",
    "fig.patch.set_color(\"#F2EDD7FF\")\n",
    "\n",
    "ax=plt.axes()\n",
    "ax.set_facecolor(\"#F2EDD7FF\")\n",
    "fig.patch.set_color(\"#F2EDD7FF\")\n",
    "\n",
    "for i in ['left','top','right']:\n",
    "    ax.spines[i].set_visible(False)\n",
    "    \n",
    "ax.grid(linestyle=\"--\",axis='y',color='gray')\n",
    "\n",
    "\n",
    "\n",
    "sns.scatterplot(data=df_ham,x=df_ham.index,y=df_ham['message_length'],label=\"ham\")\n",
    "sns.scatterplot(data=df_spam,x=df_spam.index,y=df_spam['message_length'],label='spam')\n",
    "plt.xlabel(\"Message Length\",fontsize=15,fontweight='bold')\n",
    "plt.ylabel(\"Message Length Frequencies\",fontsize=15,fontweight='bold')"
   ]
  },
  {
   "cell_type": "markdown",
   "id": "79078ada",
   "metadata": {},
   "source": [
    "# Data Cleaning"
   ]
  },
  {
   "cell_type": "code",
   "execution_count": 67,
   "id": "3e32a964",
   "metadata": {},
   "outputs": [],
   "source": [
    "import re\n",
    "import string"
   ]
  },
  {
   "cell_type": "code",
   "execution_count": 68,
   "id": "3ae4a05b",
   "metadata": {},
   "outputs": [],
   "source": [
    "def text_cleaning(text):\n",
    "    text = str(text).lower()    \n",
    "    text = re.sub('\\[.*?\\]','',text)\n",
    "    text = re.sub('https?://\\S+|www\\.\\S+', '', text)\n",
    "    text = re.sub('<.*?>+','',text)\n",
    "    text = re.sub(\"[%s]\" % re.escape(string.punctuation),'',text)\n",
    "    text = re.sub(\"\\n\",'',text)\n",
    "    text = re.sub('\\w*\\d\\w*','',text)\n",
    "    return(text)"
   ]
  },
  {
   "cell_type": "code",
   "execution_count": 69,
   "id": "7661f760",
   "metadata": {},
   "outputs": [
    {
     "data": {
      "text/html": [
       "<div>\n",
       "<style scoped>\n",
       "    .dataframe tbody tr th:only-of-type {\n",
       "        vertical-align: middle;\n",
       "    }\n",
       "\n",
       "    .dataframe tbody tr th {\n",
       "        vertical-align: top;\n",
       "    }\n",
       "\n",
       "    .dataframe thead th {\n",
       "        text-align: right;\n",
       "    }\n",
       "</style>\n",
       "<table border=\"1\" class=\"dataframe\">\n",
       "  <thead>\n",
       "    <tr style=\"text-align: right;\">\n",
       "      <th></th>\n",
       "      <th>Target</th>\n",
       "      <th>Text</th>\n",
       "      <th>message_length</th>\n",
       "      <th>cleaned_text</th>\n",
       "    </tr>\n",
       "  </thead>\n",
       "  <tbody>\n",
       "    <tr>\n",
       "      <th>0</th>\n",
       "      <td>ham</td>\n",
       "      <td>Go until jurong point, crazy.. Available only ...</td>\n",
       "      <td>20</td>\n",
       "      <td>go until jurong point crazy available only in ...</td>\n",
       "    </tr>\n",
       "    <tr>\n",
       "      <th>1</th>\n",
       "      <td>ham</td>\n",
       "      <td>Ok lar... Joking wif u oni...</td>\n",
       "      <td>6</td>\n",
       "      <td>ok lar joking wif u oni</td>\n",
       "    </tr>\n",
       "    <tr>\n",
       "      <th>2</th>\n",
       "      <td>spam</td>\n",
       "      <td>Free entry in 2 a wkly comp to win FA Cup fina...</td>\n",
       "      <td>28</td>\n",
       "      <td>free entry in  a wkly comp to win fa cup final...</td>\n",
       "    </tr>\n",
       "    <tr>\n",
       "      <th>3</th>\n",
       "      <td>ham</td>\n",
       "      <td>U dun say so early hor... U c already then say...</td>\n",
       "      <td>11</td>\n",
       "      <td>u dun say so early hor u c already then say</td>\n",
       "    </tr>\n",
       "    <tr>\n",
       "      <th>4</th>\n",
       "      <td>ham</td>\n",
       "      <td>Nah I don't think he goes to usf, he lives aro...</td>\n",
       "      <td>13</td>\n",
       "      <td>nah i dont think he goes to usf he lives aroun...</td>\n",
       "    </tr>\n",
       "  </tbody>\n",
       "</table>\n",
       "</div>"
      ],
      "text/plain": [
       "  Target                                               Text  message_length  \\\n",
       "0    ham  Go until jurong point, crazy.. Available only ...              20   \n",
       "1    ham                      Ok lar... Joking wif u oni...               6   \n",
       "2   spam  Free entry in 2 a wkly comp to win FA Cup fina...              28   \n",
       "3    ham  U dun say so early hor... U c already then say...              11   \n",
       "4    ham  Nah I don't think he goes to usf, he lives aro...              13   \n",
       "\n",
       "                                        cleaned_text  \n",
       "0  go until jurong point crazy available only in ...  \n",
       "1                            ok lar joking wif u oni  \n",
       "2  free entry in  a wkly comp to win fa cup final...  \n",
       "3        u dun say so early hor u c already then say  \n",
       "4  nah i dont think he goes to usf he lives aroun...  "
      ]
     },
     "execution_count": 69,
     "metadata": {},
     "output_type": "execute_result"
    }
   ],
   "source": [
    "df['cleaned_text']=df['Text'].apply(text_cleaning)\n",
    "\n",
    "df.head()"
   ]
  },
  {
   "cell_type": "code",
   "execution_count": 70,
   "id": "d7e047b9",
   "metadata": {},
   "outputs": [
    {
     "name": "stdout",
     "output_type": "stream",
     "text": [
      "***** First five sentences of the cleaned and uncleaned text *****\n",
      "\n",
      "Uncleaned sentence ==> 1 . Go until jurong point, crazy.. Available only in bugis n great world la e buffet... Cine there got amore wat...\n",
      "Cleaned sentence ==> 1 . go until jurong point crazy available only in bugis n great world la e buffet cine there got amore wat\n",
      "\n",
      "Uncleaned sentence ==> 2 . Ok lar... Joking wif u oni...\n",
      "Cleaned sentence ==> 2 . ok lar joking wif u oni\n",
      "\n",
      "Uncleaned sentence ==> 3 . Free entry in 2 a wkly comp to win FA Cup final tkts 21st May 2005. Text FA to 87121 to receive entry question(std txt rate)T&C's apply 08452810075over18's\n",
      "Cleaned sentence ==> 3 . free entry in  a wkly comp to win fa cup final tkts  may  text fa to  to receive entry questionstd txt ratetcs apply \n",
      "\n",
      "Uncleaned sentence ==> 4 . U dun say so early hor... U c already then say...\n",
      "Cleaned sentence ==> 4 . u dun say so early hor u c already then say\n",
      "\n",
      "Uncleaned sentence ==> 5 . Nah I don't think he goes to usf, he lives around here though\n",
      "Cleaned sentence ==> 5 . nah i dont think he goes to usf he lives around here though\n",
      "\n"
     ]
    }
   ],
   "source": [
    "print(\"***** First five sentences of the cleaned and uncleaned text *****\")\n",
    "print()\n",
    "for i in range(0,5):\n",
    "    print(\"Uncleaned sentence ==>\",i+1 , \".\", df[\"Text\"][i])\n",
    "    print(\"Cleaned sentence ==>\",i+1,\".\", df['cleaned_text'][i])\n",
    "    print()"
   ]
  },
  {
   "cell_type": "markdown",
   "id": "6e5ba063",
   "metadata": {},
   "source": [
    "# Removing Stopwords"
   ]
  },
  {
   "cell_type": "code",
   "execution_count": 71,
   "id": "e61be588",
   "metadata": {},
   "outputs": [
    {
     "name": "stderr",
     "output_type": "stream",
     "text": [
      "[nltk_data] Downloading package omw-1.4 to\n",
      "[nltk_data]     C:\\Users\\sandh\\AppData\\Roaming\\nltk_data...\n",
      "[nltk_data]   Package omw-1.4 is already up-to-date!\n",
      "[nltk_data] Downloading package wordnet to\n",
      "[nltk_data]     C:\\Users\\sandh\\AppData\\Roaming\\nltk_data...\n",
      "[nltk_data]   Package wordnet is already up-to-date!\n"
     ]
    }
   ],
   "source": [
    "import nltk\n",
    "nltk.download('omw-1.4')\n",
    "nltk.download('wordnet')\n",
    "from nltk.corpus import stopwords\n",
    "from nltk.stem import WordNetLemmatizer\n",
    "\n",
    "wordnet = WordNetLemmatizer()\n",
    "def remove_stopwords(text):\n",
    "    text = text.split()\n",
    "    text = [wordnet.lemmatize(word) for word in text if word not in set(stopwords.words('english'))]\n",
    "    text = \" \".join(text)\n",
    "    return(text)\n",
    "\n",
    "df['cleaned_text']=df['cleaned_text'].apply(remove_stopwords)"
   ]
  },
  {
   "cell_type": "code",
   "execution_count": 72,
   "id": "bb705480",
   "metadata": {},
   "outputs": [
    {
     "name": "stdout",
     "output_type": "stream",
     "text": [
      "***** Dataset after lemmatizing and removing stop words *****\n",
      "\n"
     ]
    },
    {
     "data": {
      "text/html": [
       "<div>\n",
       "<style scoped>\n",
       "    .dataframe tbody tr th:only-of-type {\n",
       "        vertical-align: middle;\n",
       "    }\n",
       "\n",
       "    .dataframe tbody tr th {\n",
       "        vertical-align: top;\n",
       "    }\n",
       "\n",
       "    .dataframe thead th {\n",
       "        text-align: right;\n",
       "    }\n",
       "</style>\n",
       "<table border=\"1\" class=\"dataframe\">\n",
       "  <thead>\n",
       "    <tr style=\"text-align: right;\">\n",
       "      <th></th>\n",
       "      <th>Target</th>\n",
       "      <th>Text</th>\n",
       "      <th>message_length</th>\n",
       "      <th>cleaned_text</th>\n",
       "    </tr>\n",
       "  </thead>\n",
       "  <tbody>\n",
       "    <tr>\n",
       "      <th>0</th>\n",
       "      <td>ham</td>\n",
       "      <td>Go until jurong point, crazy.. Available only ...</td>\n",
       "      <td>20</td>\n",
       "      <td>go jurong point crazy available bugis n great ...</td>\n",
       "    </tr>\n",
       "    <tr>\n",
       "      <th>1</th>\n",
       "      <td>ham</td>\n",
       "      <td>Ok lar... Joking wif u oni...</td>\n",
       "      <td>6</td>\n",
       "      <td>ok lar joking wif u oni</td>\n",
       "    </tr>\n",
       "    <tr>\n",
       "      <th>2</th>\n",
       "      <td>spam</td>\n",
       "      <td>Free entry in 2 a wkly comp to win FA Cup fina...</td>\n",
       "      <td>28</td>\n",
       "      <td>free entry wkly comp win fa cup final tkts may...</td>\n",
       "    </tr>\n",
       "    <tr>\n",
       "      <th>3</th>\n",
       "      <td>ham</td>\n",
       "      <td>U dun say so early hor... U c already then say...</td>\n",
       "      <td>11</td>\n",
       "      <td>u dun say early hor u c already say</td>\n",
       "    </tr>\n",
       "    <tr>\n",
       "      <th>4</th>\n",
       "      <td>ham</td>\n",
       "      <td>Nah I don't think he goes to usf, he lives aro...</td>\n",
       "      <td>13</td>\n",
       "      <td>nah dont think go usf life around though</td>\n",
       "    </tr>\n",
       "  </tbody>\n",
       "</table>\n",
       "</div>"
      ],
      "text/plain": [
       "  Target                                               Text  message_length  \\\n",
       "0    ham  Go until jurong point, crazy.. Available only ...              20   \n",
       "1    ham                      Ok lar... Joking wif u oni...               6   \n",
       "2   spam  Free entry in 2 a wkly comp to win FA Cup fina...              28   \n",
       "3    ham  U dun say so early hor... U c already then say...              11   \n",
       "4    ham  Nah I don't think he goes to usf, he lives aro...              13   \n",
       "\n",
       "                                        cleaned_text  \n",
       "0  go jurong point crazy available bugis n great ...  \n",
       "1                            ok lar joking wif u oni  \n",
       "2  free entry wkly comp win fa cup final tkts may...  \n",
       "3                u dun say early hor u c already say  \n",
       "4           nah dont think go usf life around though  "
      ]
     },
     "execution_count": 72,
     "metadata": {},
     "output_type": "execute_result"
    }
   ],
   "source": [
    "print(\"***** Dataset after lemmatizing and removing stop words *****\")\n",
    "print()\n",
    "df.head()"
   ]
  },
  {
   "cell_type": "code",
   "execution_count": 73,
   "id": "5630d721",
   "metadata": {},
   "outputs": [],
   "source": [
    "df=df.drop(['Text'],axis=1)"
   ]
  },
  {
   "cell_type": "code",
   "execution_count": 74,
   "id": "ff1840e7",
   "metadata": {},
   "outputs": [],
   "source": [
    "df_ham_cleaned= df[df[\"Target\"]==\"ham\"]\n",
    "df_spam_cleaned=df[df[\"Target\"]==\"spam\"]\n",
    "df_ham_cleaned=pd.DataFrame(df_ham_cleaned)\n",
    "df_spam_cleaned=pd.DataFrame(df_spam_cleaned)"
   ]
  },
  {
   "cell_type": "code",
   "execution_count": 75,
   "id": "6c4a8561",
   "metadata": {},
   "outputs": [
    {
     "data": {
      "text/html": [
       "<div>\n",
       "<style scoped>\n",
       "    .dataframe tbody tr th:only-of-type {\n",
       "        vertical-align: middle;\n",
       "    }\n",
       "\n",
       "    .dataframe tbody tr th {\n",
       "        vertical-align: top;\n",
       "    }\n",
       "\n",
       "    .dataframe thead th {\n",
       "        text-align: right;\n",
       "    }\n",
       "</style>\n",
       "<table border=\"1\" class=\"dataframe\">\n",
       "  <thead>\n",
       "    <tr style=\"text-align: right;\">\n",
       "      <th></th>\n",
       "      <th>Target</th>\n",
       "      <th>message_length</th>\n",
       "      <th>cleaned_text</th>\n",
       "    </tr>\n",
       "  </thead>\n",
       "  <tbody>\n",
       "    <tr>\n",
       "      <th>0</th>\n",
       "      <td>ham</td>\n",
       "      <td>20</td>\n",
       "      <td>go jurong point crazy available bugis n great ...</td>\n",
       "    </tr>\n",
       "    <tr>\n",
       "      <th>1</th>\n",
       "      <td>ham</td>\n",
       "      <td>6</td>\n",
       "      <td>ok lar joking wif u oni</td>\n",
       "    </tr>\n",
       "    <tr>\n",
       "      <th>3</th>\n",
       "      <td>ham</td>\n",
       "      <td>11</td>\n",
       "      <td>u dun say early hor u c already say</td>\n",
       "    </tr>\n",
       "    <tr>\n",
       "      <th>4</th>\n",
       "      <td>ham</td>\n",
       "      <td>13</td>\n",
       "      <td>nah dont think go usf life around though</td>\n",
       "    </tr>\n",
       "    <tr>\n",
       "      <th>6</th>\n",
       "      <td>ham</td>\n",
       "      <td>16</td>\n",
       "      <td>even brother like speak treat like aid patent</td>\n",
       "    </tr>\n",
       "    <tr>\n",
       "      <th>...</th>\n",
       "      <td>...</td>\n",
       "      <td>...</td>\n",
       "      <td>...</td>\n",
       "    </tr>\n",
       "    <tr>\n",
       "      <th>5565</th>\n",
       "      <td>ham</td>\n",
       "      <td>3</td>\n",
       "      <td>huh lei</td>\n",
       "    </tr>\n",
       "    <tr>\n",
       "      <th>5568</th>\n",
       "      <td>ham</td>\n",
       "      <td>8</td>\n",
       "      <td>ì b going esplanade fr home</td>\n",
       "    </tr>\n",
       "    <tr>\n",
       "      <th>5569</th>\n",
       "      <td>ham</td>\n",
       "      <td>10</td>\n",
       "      <td>pity mood soany suggestion</td>\n",
       "    </tr>\n",
       "    <tr>\n",
       "      <th>5570</th>\n",
       "      <td>ham</td>\n",
       "      <td>26</td>\n",
       "      <td>guy bitching acted like id interested buying s...</td>\n",
       "    </tr>\n",
       "    <tr>\n",
       "      <th>5571</th>\n",
       "      <td>ham</td>\n",
       "      <td>6</td>\n",
       "      <td>rofl true name</td>\n",
       "    </tr>\n",
       "  </tbody>\n",
       "</table>\n",
       "<p>4825 rows × 3 columns</p>\n",
       "</div>"
      ],
      "text/plain": [
       "     Target  message_length                                       cleaned_text\n",
       "0       ham              20  go jurong point crazy available bugis n great ...\n",
       "1       ham               6                            ok lar joking wif u oni\n",
       "3       ham              11                u dun say early hor u c already say\n",
       "4       ham              13           nah dont think go usf life around though\n",
       "6       ham              16      even brother like speak treat like aid patent\n",
       "...     ...             ...                                                ...\n",
       "5565    ham               3                                            huh lei\n",
       "5568    ham               8                        ì b going esplanade fr home\n",
       "5569    ham              10                         pity mood soany suggestion\n",
       "5570    ham              26  guy bitching acted like id interested buying s...\n",
       "5571    ham               6                                     rofl true name\n",
       "\n",
       "[4825 rows x 3 columns]"
      ]
     },
     "execution_count": 75,
     "metadata": {},
     "output_type": "execute_result"
    }
   ],
   "source": [
    "df_ham_cleaned"
   ]
  },
  {
   "cell_type": "code",
   "execution_count": 76,
   "id": "da7f7d6c",
   "metadata": {},
   "outputs": [],
   "source": [
    "para_ham = \" \".join([word for word in df_ham_cleaned['cleaned_text']])\n",
    "para_spam = \" \".join([word for word in df_spam_cleaned['cleaned_text']])"
   ]
  },
  {
   "cell_type": "markdown",
   "id": "3b053d75",
   "metadata": {},
   "source": [
    "# Modelling with Bag of Words Method"
   ]
  },
  {
   "cell_type": "code",
   "execution_count": 77,
   "id": "d3864233",
   "metadata": {},
   "outputs": [],
   "source": [
    "from sklearn.feature_extraction.text import CountVectorizer\n",
    "from sklearn.model_selection import train_test_split\n",
    "from sklearn.preprocessing import LabelEncoder"
   ]
  },
  {
   "cell_type": "code",
   "execution_count": 78,
   "id": "bbcc6c11",
   "metadata": {},
   "outputs": [
    {
     "data": {
      "text/html": [
       "<div>\n",
       "<style scoped>\n",
       "    .dataframe tbody tr th:only-of-type {\n",
       "        vertical-align: middle;\n",
       "    }\n",
       "\n",
       "    .dataframe tbody tr th {\n",
       "        vertical-align: top;\n",
       "    }\n",
       "\n",
       "    .dataframe thead th {\n",
       "        text-align: right;\n",
       "    }\n",
       "</style>\n",
       "<table border=\"1\" class=\"dataframe\">\n",
       "  <thead>\n",
       "    <tr style=\"text-align: right;\">\n",
       "      <th></th>\n",
       "      <th>Target</th>\n",
       "      <th>message_length</th>\n",
       "      <th>cleaned_text</th>\n",
       "    </tr>\n",
       "  </thead>\n",
       "  <tbody>\n",
       "    <tr>\n",
       "      <th>0</th>\n",
       "      <td>0</td>\n",
       "      <td>20</td>\n",
       "      <td>go jurong point crazy available bugis n great ...</td>\n",
       "    </tr>\n",
       "    <tr>\n",
       "      <th>1</th>\n",
       "      <td>0</td>\n",
       "      <td>6</td>\n",
       "      <td>ok lar joking wif u oni</td>\n",
       "    </tr>\n",
       "    <tr>\n",
       "      <th>2</th>\n",
       "      <td>1</td>\n",
       "      <td>28</td>\n",
       "      <td>free entry wkly comp win fa cup final tkts may...</td>\n",
       "    </tr>\n",
       "    <tr>\n",
       "      <th>3</th>\n",
       "      <td>0</td>\n",
       "      <td>11</td>\n",
       "      <td>u dun say early hor u c already say</td>\n",
       "    </tr>\n",
       "    <tr>\n",
       "      <th>4</th>\n",
       "      <td>0</td>\n",
       "      <td>13</td>\n",
       "      <td>nah dont think go usf life around though</td>\n",
       "    </tr>\n",
       "  </tbody>\n",
       "</table>\n",
       "</div>"
      ],
      "text/plain": [
       "   Target  message_length                                       cleaned_text\n",
       "0       0              20  go jurong point crazy available bugis n great ...\n",
       "1       0               6                            ok lar joking wif u oni\n",
       "2       1              28  free entry wkly comp win fa cup final tkts may...\n",
       "3       0              11                u dun say early hor u c already say\n",
       "4       0              13           nah dont think go usf life around though"
      ]
     },
     "execution_count": 78,
     "metadata": {},
     "output_type": "execute_result"
    }
   ],
   "source": [
    "le=LabelEncoder()\n",
    "df['Target']=le.fit_transform(df[\"Target\"])\n",
    "df.head()"
   ]
  },
  {
   "cell_type": "code",
   "execution_count": 79,
   "id": "5f8fa23f",
   "metadata": {},
   "outputs": [],
   "source": [
    "x=df['cleaned_text']\n",
    "y=df['Target']\n",
    "x_train,x_test,y_train,y_test=train_test_split(x,y,random_state=42)"
   ]
  },
  {
   "cell_type": "code",
   "execution_count": 80,
   "id": "8f39eb9c",
   "metadata": {},
   "outputs": [
    {
     "name": "stdout",
     "output_type": "stream",
     "text": [
      "*** Size of x_train *** (4179,)\n",
      "*** Size of y_train *** (4179,)\n",
      "*** Size of x_test ***  (1393,)\n",
      "*** Size of y_test ***  (1393,)\n"
     ]
    }
   ],
   "source": [
    "print(\"*** Size of x_train ***\",x_train.shape)\n",
    "print(\"*** Size of y_train ***\",y_train.shape)\n",
    "print(\"*** Size of x_test *** \",x_test.shape)\n",
    "print(\"*** Size of y_test *** \",y_test.shape)"
   ]
  },
  {
   "cell_type": "code",
   "execution_count": 81,
   "id": "2e8acacf",
   "metadata": {},
   "outputs": [],
   "source": [
    "cv=CountVectorizer()\n",
    "vect=cv.fit(x_train)\n",
    "x_train_vector=vect.transform(x_train)\n",
    "x_test_vector=vect.transform(x_test)"
   ]
  },
  {
   "cell_type": "code",
   "execution_count": 82,
   "id": "487275cd",
   "metadata": {},
   "outputs": [
    {
     "name": "stdout",
     "output_type": "stream",
     "text": [
      "**** Shape of training dataset after vectorization **** (4179, 6388)\n",
      "**** Shape of test dataset after vectorization **** (1393, 6388)\n"
     ]
    }
   ],
   "source": [
    "print(\"**** Shape of training dataset after vectorization ****\" , x_train_vector.shape)\n",
    "print(\"**** Shape of test dataset after vectorization ****\" , x_test_vector.shape)"
   ]
  },
  {
   "cell_type": "code",
   "execution_count": 83,
   "id": "539937a1",
   "metadata": {},
   "outputs": [],
   "source": [
    "from sklearn.ensemble import RandomForestClassifier\n",
    "from sklearn.tree import DecisionTreeClassifier\n",
    "from sklearn.naive_bayes import MultinomialNB\n",
    "import xgboost as xgb\n",
    "from sklearn import svm\n",
    "from sklearn.metrics import accuracy_score , classification_report"
   ]
  },
  {
   "cell_type": "code",
   "execution_count": 84,
   "id": "57ac3cb4",
   "metadata": {},
   "outputs": [],
   "source": [
    "lis=[]\n",
    "def modelling(dic):\n",
    "    for models in dic:\n",
    "        print(\"**** Training with\", models , \"algorithm ****\")\n",
    "        dic[models].fit(x_train_vector,y_train)\n",
    "        print(\"**** Predicting with\",models , \"algorithm ****\")\n",
    "        print(\"......\")\n",
    "        pred=dic[models].predict(x_test_vector)\n",
    "        print()\n",
    "        print(\"**** Getting Accuracy of\" , models , \"algorithm ****\")\n",
    "        print(\"......\")\n",
    "        print(accuracy_score(y_test,pred))\n",
    "        lis.append(accuracy_score(y_test,pred))\n",
    "        print(\"......\")\n",
    "        print(\"**** Getting Classification report of\", models , \"algorithm ****\")\n",
    "        print()\n",
    "        print(classification_report(y_test,pred))\n",
    "        print(\"----------------------------------------------------------------\")\n",
    "        print()"
   ]
  },
  {
   "cell_type": "code",
   "execution_count": 85,
   "id": "a0bbfdb7",
   "metadata": {},
   "outputs": [],
   "source": [
    "dic={\"Naive Bayes\": MultinomialNB(),\"Decision Tree\": DecisionTreeClassifier(random_state=42),\"SVM\":svm.SVC(),\n",
    "     \"Random Forest\":RandomForestClassifier(n_estimators=200,random_state=42),\"XGB\":xgb.XGBClassifier(n_estimators=80),\n",
    "      }"
   ]
  },
  {
   "cell_type": "code",
   "execution_count": 86,
   "id": "1dd5ed08",
   "metadata": {},
   "outputs": [
    {
     "name": "stdout",
     "output_type": "stream",
     "text": [
      "**** Training with Naive Bayes algorithm ****\n",
      "**** Predicting with Naive Bayes algorithm ****\n",
      "......\n",
      "\n",
      "**** Getting Accuracy of Naive Bayes algorithm ****\n",
      "......\n",
      "0.9784637473079684\n",
      "......\n",
      "**** Getting Classification report of Naive Bayes algorithm ****\n",
      "\n",
      "              precision    recall  f1-score   support\n",
      "\n",
      "           0       0.98      0.99      0.99      1202\n",
      "           1       0.95      0.88      0.92       191\n",
      "\n",
      "    accuracy                           0.98      1393\n",
      "   macro avg       0.97      0.94      0.95      1393\n",
      "weighted avg       0.98      0.98      0.98      1393\n",
      "\n",
      "----------------------------------------------------------------\n",
      "\n",
      "**** Training with Decision Tree algorithm ****\n",
      "**** Predicting with Decision Tree algorithm ****\n",
      "......\n",
      "\n",
      "**** Getting Accuracy of Decision Tree algorithm ****\n",
      "......\n",
      "0.9655419956927495\n",
      "......\n",
      "**** Getting Classification report of Decision Tree algorithm ****\n",
      "\n",
      "              precision    recall  f1-score   support\n",
      "\n",
      "           0       0.97      0.99      0.98      1202\n",
      "           1       0.91      0.83      0.87       191\n",
      "\n",
      "    accuracy                           0.97      1393\n",
      "   macro avg       0.94      0.91      0.92      1393\n",
      "weighted avg       0.96      0.97      0.96      1393\n",
      "\n",
      "----------------------------------------------------------------\n",
      "\n",
      "**** Training with SVM algorithm ****\n",
      "**** Predicting with SVM algorithm ****\n",
      "......\n",
      "\n",
      "**** Getting Accuracy of SVM algorithm ****\n",
      "......\n",
      "0.9712849964106246\n",
      "......\n",
      "**** Getting Classification report of SVM algorithm ****\n",
      "\n",
      "              precision    recall  f1-score   support\n",
      "\n",
      "           0       0.97      1.00      0.98      1202\n",
      "           1       0.99      0.80      0.88       191\n",
      "\n",
      "    accuracy                           0.97      1393\n",
      "   macro avg       0.98      0.90      0.93      1393\n",
      "weighted avg       0.97      0.97      0.97      1393\n",
      "\n",
      "----------------------------------------------------------------\n",
      "\n",
      "**** Training with Random Forest algorithm ****\n",
      "**** Predicting with Random Forest algorithm ****\n",
      "......\n",
      "\n",
      "**** Getting Accuracy of Random Forest algorithm ****\n",
      "......\n",
      "0.9734386216798278\n",
      "......\n",
      "**** Getting Classification report of Random Forest algorithm ****\n",
      "\n",
      "              precision    recall  f1-score   support\n",
      "\n",
      "           0       0.97      1.00      0.98      1202\n",
      "           1       0.99      0.82      0.89       191\n",
      "\n",
      "    accuracy                           0.97      1393\n",
      "   macro avg       0.98      0.91      0.94      1393\n",
      "weighted avg       0.97      0.97      0.97      1393\n",
      "\n",
      "----------------------------------------------------------------\n",
      "\n",
      "**** Training with XGB algorithm ****\n",
      "**** Predicting with XGB algorithm ****\n",
      "......\n",
      "\n",
      "**** Getting Accuracy of XGB algorithm ****\n",
      "......\n",
      "0.9691313711414213\n",
      "......\n",
      "**** Getting Classification report of XGB algorithm ****\n",
      "\n",
      "              precision    recall  f1-score   support\n",
      "\n",
      "           0       0.97      1.00      0.98      1202\n",
      "           1       0.96      0.81      0.88       191\n",
      "\n",
      "    accuracy                           0.97      1393\n",
      "   macro avg       0.97      0.90      0.93      1393\n",
      "weighted avg       0.97      0.97      0.97      1393\n",
      "\n",
      "----------------------------------------------------------------\n",
      "\n"
     ]
    }
   ],
   "source": [
    "modelling(dic)"
   ]
  },
  {
   "cell_type": "code",
   "execution_count": 87,
   "id": "8c950304",
   "metadata": {},
   "outputs": [],
   "source": [
    "models_dataframe=pd.DataFrame({\n",
    "    \"Models\":[\"Naive Bayes\" , \"Decision Tree\" , \"SVM\" , \"Random Forest\" , \"XGBoost\"] ,\n",
    "    \"Accuracy_score\":[i for i in lis]\n",
    "})"
   ]
  },
  {
   "cell_type": "code",
   "execution_count": 88,
   "id": "491c6e01",
   "metadata": {},
   "outputs": [
    {
     "data": {
      "text/html": [
       "<div>\n",
       "<style scoped>\n",
       "    .dataframe tbody tr th:only-of-type {\n",
       "        vertical-align: middle;\n",
       "    }\n",
       "\n",
       "    .dataframe tbody tr th {\n",
       "        vertical-align: top;\n",
       "    }\n",
       "\n",
       "    .dataframe thead th {\n",
       "        text-align: right;\n",
       "    }\n",
       "</style>\n",
       "<table border=\"1\" class=\"dataframe\">\n",
       "  <thead>\n",
       "    <tr style=\"text-align: right;\">\n",
       "      <th></th>\n",
       "      <th>Models</th>\n",
       "      <th>Accuracy_score</th>\n",
       "    </tr>\n",
       "  </thead>\n",
       "  <tbody>\n",
       "    <tr>\n",
       "      <th>0</th>\n",
       "      <td>Naive Bayes</td>\n",
       "      <td>0.978464</td>\n",
       "    </tr>\n",
       "    <tr>\n",
       "      <th>1</th>\n",
       "      <td>Decision Tree</td>\n",
       "      <td>0.965542</td>\n",
       "    </tr>\n",
       "    <tr>\n",
       "      <th>2</th>\n",
       "      <td>SVM</td>\n",
       "      <td>0.971285</td>\n",
       "    </tr>\n",
       "    <tr>\n",
       "      <th>3</th>\n",
       "      <td>Random Forest</td>\n",
       "      <td>0.973439</td>\n",
       "    </tr>\n",
       "    <tr>\n",
       "      <th>4</th>\n",
       "      <td>XGBoost</td>\n",
       "      <td>0.969131</td>\n",
       "    </tr>\n",
       "  </tbody>\n",
       "</table>\n",
       "</div>"
      ],
      "text/plain": [
       "          Models  Accuracy_score\n",
       "0    Naive Bayes        0.978464\n",
       "1  Decision Tree        0.965542\n",
       "2            SVM        0.971285\n",
       "3  Random Forest        0.973439\n",
       "4        XGBoost        0.969131"
      ]
     },
     "execution_count": 88,
     "metadata": {},
     "output_type": "execute_result"
    }
   ],
   "source": [
    "models_dataframe"
   ]
  },
  {
   "cell_type": "code",
   "execution_count": 89,
   "id": "484e8ceb",
   "metadata": {},
   "outputs": [
    {
     "data": {
      "image/png": "[encoded data removed]",
      "text/plain": [
       "<Figure size 2000x1000 with 1 Axes>"
      ]
     },
     "metadata": {},
     "output_type": "display_data"
    }
   ],
   "source": [
    "plt.figure(figsize=(20,10))\n",
    "sns.barplot(y=models_dataframe['Models'],x=models_dataframe['Accuracy_score'],palette='rocket')\n",
    "plt.title(\"Accuracy of models with BOW method\")\n",
    "plt.show()"
   ]
  },
  {
   "cell_type": "code",
   "execution_count": null,
   "id": "1c7dc708",
   "metadata": {},
   "outputs": [],
   "source": []
  }
 ],
 "metadata": {
  "kernelspec": {
   "display_name": "Python 3 (ipykernel)",
   "language": "python",
   "name": "python3"
  },
  "language_info": {
   "codemirror_mode": {
    "name": "ipython",
    "version": 3
   },
   "file_extension": ".py",
   "mimetype": "text/x-python",
   "name": "python",
   "nbconvert_exporter": "python",
   "pygments_lexer": "ipython3",
   "version": "3.9.13"
  }
 },
 "nbformat": 4,
 "nbformat_minor": 5
}
